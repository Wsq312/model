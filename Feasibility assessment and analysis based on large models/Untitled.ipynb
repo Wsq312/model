{
 "cells": [
  {
   "cell_type": "code",
   "execution_count": null,
   "id": "8ecad760",
   "metadata": {
    "pycharm": {
     "name": "#%%\n",
     "is_executing": true
    }
   },
   "outputs": [],
   "source": [
    "from util import *\n",
    "from tqdm import tqdm\n",
    "import random\n",
    "\n",
    "\"\"\"\n",
    "本代码用于测试和评估模型信息筛选的能力，对于输入的问题的和已知知识，观察模型是否可以\n",
    "很好的识别和找到对应知识\n",
    "1.根据问题，找到k个最相关的知识\n",
    "2.模型再进行一次筛选\n",
    "3.将数据进行保存\n",
    "\"\"\"\n",
    "\n",
    "#根据问题得到k个知识\n",
    "def get_k_knowledge(query,vector,k=5):\n",
    "    docs=vector.similarity_search(query,k)\n",
    "    return docs\n",
    "\n",
    "faiss=load_embedding()\n",
    "\n",
    "#读取数据，先仅用Additional的内容\n",
    "\n",
    "# 把dev_complete.jsonl、test_complete.jsonl和train_complete.jsonl文件中的fact1字段作为知识\n",
    "dev_file = 'data/openbookqa/Additional/dev_complete.jsonl'\n",
    "test_file = 'data/openbookqa/Additional/test_complete.jsonl'\n",
    "train_file = 'data/openbookqa/Additional/train_complete.jsonl'\n",
    "json_files = [dev_file, test_file, train_file]\n",
    "main_knowledge=[]\n",
    "for file in json_files:\n",
    "    with open(file, 'r', encoding='utf-8') as f:\n",
    "        for line in f:\n",
    "            data = json.loads(line)\n",
    "            main_knowledge.append(data)\n",
    "count=0\n",
    "random.shuffle(main_knowledge)\n",
    "print(len(main_knowledge))"
   ]
  },
  {
   "cell_type": "code",
   "execution_count": 2,
   "id": "a75a1e66",
   "metadata": {
    "pycharm": {
     "name": "#%%\n"
    }
   },
   "outputs": [],
   "source": [
    "\"\"\"\n",
    "我们提出的方法进行知识问答分为以下几步：\n",
    "1.根据问题，从知识库里面找到可能的相关事实\n",
    "2.根据模型，对相关事实进行筛选，找到和问题实际相关的支持事实\n",
    "3.结合支持事实，对问题进行解答，输出3个部分内容，答案，解析，支持事实\n",
    "\"\"\"\n",
    "\n",
    "#找到示例问题的相关事实\n",
    "query=\"Frilled sharks and angler fish live far beneath the surface of the ocean, which is why they are known as\"\n",
    "docs=get_k_knowledge(query,faiss,k=10)"
   ]
  },
  {
   "cell_type": "code",
   "execution_count": 3,
   "id": "2a2703f8",
   "metadata": {
    "pycharm": {
     "name": "#%%\n"
    }
   },
   "outputs": [
    {
     "data": {
      "text/plain": [
       "[Document(page_content='Examples of deep sea animals are angler fish and frilled sharks', metadata={'编号': 340}),\n",
       " Document(page_content='deep sea animals live deep in the ocean', metadata={'编号': 5747}),\n",
       " Document(page_content='Lophiiformes include anglerfish', metadata={'编号': 524}),\n",
       " Document(page_content='squids live deep in the ocean', metadata={'编号': 4281}),\n",
       " Document(page_content='sharks have gills', metadata={'编号': 4112}),\n",
       " Document(page_content='clams live at the bottom of the ocean', metadata={'编号': 5694}),\n",
       " Document(page_content='flounder are aquatic animals', metadata={'编号': 2446}),\n",
       " Document(page_content='angler fish use lights to attract prey', metadata={'编号': 1483}),\n",
       " Document(page_content='sharks are carnivores', metadata={'编号': 4110}),\n",
       " Document(page_content='a fish lives in water', metadata={'编号': 5304})]"
      ]
     },
     "execution_count": 3,
     "metadata": {},
     "output_type": "execute_result"
    }
   ],
   "source": [
    "docs"
   ]
  },
  {
   "cell_type": "code",
   "execution_count": 13,
   "id": "b26f28a8",
   "metadata": {
    "pycharm": {
     "name": "#%%\n"
    }
   },
   "outputs": [],
   "source": [
    "\"\"\"\n",
    "链式完成以下两个步骤\n",
    "1.根据问题和可选事实，找到依赖事实\n",
    "2.根据问题和依赖事实找到答案\n",
    "\"\"\"\n",
    "from langchain import PromptTemplate\n",
    "\n",
    "template=\"\"\"Please select the most relevant knowledge from the following based on the question. If it does not exist, please return \"none\". If it does, please provide the corresponding knowledge.\n",
    "Question: {question} \n",
    "Supported facts: {fact_list}\"\"\"\n",
    "\n",
    "prompt_template = PromptTemplate(input_variables=[\"question\",\"fact_list\"], template=template)"
   ]
  },
  {
   "cell_type": "code",
   "execution_count": 14,
   "id": "38544a18",
   "metadata": {
    "pycharm": {
     "name": "#%%\n"
    }
   },
   "outputs": [],
   "source": [
    "from langchain.llms import OpenAI\n",
    "llm = OpenAI(temperature=0.9)"
   ]
  },
  {
   "cell_type": "code",
   "execution_count": 15,
   "id": "bd7cce3a",
   "metadata": {
    "pycharm": {
     "name": "#%%\n"
    }
   },
   "outputs": [
    {
     "name": "stdout",
     "output_type": "stream",
     "text": [
      "Please select the most relevant knowledge from the following based on the question. If it does not exist, please return \"none\". If it does, please provide the corresponding knowledge.\n",
      "Question: colorful socks \n",
      "Supported facts: 1 socks\n"
     ]
    }
   ],
   "source": [
    "print(prompt_template.format(question=\"colorful socks\",fact_list=\"1 socks\"))"
   ]
  },
  {
   "cell_type": "code",
   "execution_count": 16,
   "id": "5dde6e86",
   "metadata": {
    "pycharm": {
     "name": "#%%\n"
    }
   },
   "outputs": [],
   "source": [
    "from langchain.chains import LLMChain\n",
    "chain = LLMChain(llm=llm, prompt=prompt_template)"
   ]
  },
  {
   "cell_type": "code",
   "execution_count": 18,
   "id": "6fb3e54d",
   "metadata": {
    "pycharm": {
     "name": "#%%\n"
    }
   },
   "outputs": [
    {
     "data": {
      "text/plain": [
       "'(1), a(2), e(3), c(4)\\n\\ne(1)'"
      ]
     },
     "execution_count": 18,
     "metadata": {},
     "output_type": "execute_result"
    }
   ],
   "source": [
    "chain.run({\n",
    "    \"question\":\"e\",\n",
    "    \"fact_list\":\"e\"\n",
    "})\n",
    "# -> '\\n\\nSocktastic!'"
   ]
  },
  {
   "cell_type": "code",
   "execution_count": 30,
   "id": "45b86aa9",
   "metadata": {
    "pycharm": {
     "name": "#%%\n"
    }
   },
   "outputs": [],
   "source": [
    "#将支持事实和编号进行返回\n",
    "def get_fact_and_number(docs):\n",
    "    fact_list=\"\"\n",
    "    for doc in docs:\n",
    "        number=\"number-\"+str(doc.metadata[\"编号\"])+\":\"\n",
    "        content=doc.page_content\n",
    "        fact_list+=number\n",
    "        fact_list+=content\n",
    "        fact_list+=\"\\n\"\n",
    "    return fact_list"
   ]
  },
  {
   "cell_type": "code",
   "execution_count": 31,
   "id": "4bca8d49",
   "metadata": {
    "pycharm": {
     "name": "#%%\n"
    }
   },
   "outputs": [],
   "source": [
    "fact_list=get_fact_and_number(docs)"
   ]
  },
  {
   "cell_type": "code",
   "execution_count": 32,
   "id": "f24e64b4",
   "metadata": {
    "pycharm": {
     "name": "#%%\n"
    }
   },
   "outputs": [
    {
     "data": {
      "text/plain": [
       "'number-340:Examples of deep sea animals are angler fish and frilled sharks\\nnumber-5747:deep sea animals live deep in the ocean\\nnumber-524:Lophiiformes include anglerfish\\nnumber-4281:squids live deep in the ocean\\nnumber-4112:sharks have gills\\nnumber-5694:clams live at the bottom of the ocean\\nnumber-2446:flounder are aquatic animals\\nnumber-1483:angler fish use lights to attract prey\\nnumber-4110:sharks are carnivores\\nnumber-5304:a fish lives in water\\n'"
      ]
     },
     "execution_count": 32,
     "metadata": {},
     "output_type": "execute_result"
    }
   ],
   "source": [
    "fact_list"
   ]
  },
  {
   "cell_type": "code",
   "execution_count": 33,
   "id": "1c20c6b9",
   "metadata": {
    "pycharm": {
     "name": "#%%\n"
    }
   },
   "outputs": [
    {
     "name": "stdout",
     "output_type": "stream",
     "text": [
      "Please select the most relevant knowledge from the following based on the question. If it does not exist, please return \"none\". If it does, please provide the corresponding knowledge.\n",
      "Question: Frilled sharks and angler fish live far beneath the surface of the ocean, which is why they are known as \n",
      "Supported facts: number-340:Examples of deep sea animals are angler fish and frilled sharks\n",
      "number-5747:deep sea animals live deep in the ocean\n",
      "number-524:Lophiiformes include anglerfish\n",
      "number-4281:squids live deep in the ocean\n",
      "number-4112:sharks have gills\n",
      "number-5694:clams live at the bottom of the ocean\n",
      "number-2446:flounder are aquatic animals\n",
      "number-1483:angler fish use lights to attract prey\n",
      "number-4110:sharks are carnivores\n",
      "number-5304:a fish lives in water\n",
      "\n"
     ]
    }
   ],
   "source": [
    "ques=\"Frilled sharks and angler fish live far beneath the surface of the ocean, which is why they are known as\"\n",
    "print(prompt_template.format(question=ques,fact_list=fact_list))"
   ]
  },
  {
   "cell_type": "code",
   "execution_count": 37,
   "id": "e37d538b",
   "metadata": {
    "pycharm": {
     "name": "#%%\n"
    }
   },
   "outputs": [
    {
     "data": {
      "text/plain": [
       "'\\nnumber-1483:angler fish use lights to attract prey'"
      ]
     },
     "execution_count": 37,
     "metadata": {},
     "output_type": "execute_result"
    }
   ],
   "source": [
    "chain.run({\n",
    "    \"question\":ques,\n",
    "    \"fact_list\":fact_list\n",
    "})"
   ]
  },
  {
   "cell_type": "code",
   "execution_count": null,
   "id": "dbb83f7b",
   "metadata": {
    "pycharm": {
     "name": "#%%\n"
    }
   },
   "outputs": [],
   "source": [
    "# 1.不同的模型，对我们这个任务的性能 2.不同的嵌入的模型的信息检索能力\n",
    "# 1.回答问题的准确率，信息检索的相关性"
   ]
  }
 ],
 "metadata": {
  "kernelspec": {
   "display_name": "Python 3 (ipykernel)",
   "language": "python",
   "name": "python3"
  },
  "language_info": {
   "codemirror_mode": {
    "name": "ipython",
    "version": 3
   },
   "file_extension": ".py",
   "mimetype": "text/x-python",
   "name": "python",
   "nbconvert_exporter": "python",
   "pygments_lexer": "ipython3",
   "version": "3.9.12"
  }
 },
 "nbformat": 4,
 "nbformat_minor": 5
}